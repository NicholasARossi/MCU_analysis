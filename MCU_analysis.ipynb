{
 "cells": [
  {
   "cell_type": "code",
   "execution_count": null,
   "metadata": {
    "collapsed": true
   },
   "outputs": [],
   "source": []
  },
  {
   "cell_type": "code",
   "execution_count": 143,
   "metadata": {
    "collapsed": false
   },
   "outputs": [],
   "source": [
    "### sites used:\n",
    "### http://www.omdbapi.com/\n",
    "### we're parsing this shit in json\n",
    "\n",
    "# import json\n",
    "import urllib.request\n",
    "import json\n",
    "import pandas as pd\n",
    "\n",
    "\n",
    "def escape_names(name):\n",
    "    name=name.replace(\" \", \"+\").replace(\":\",\"%3A\")\n",
    "    return name\n",
    "\n",
    "titles=[\"iron+man\",\"the+incredible+hulk\",\"iron+man+2\",\"thor\",\"Captain America: The First Avenger\",\"The Avengers\",\"Iron Man 3\",\"Thor: The Dark World\",\"Captain America: The Winter Soldier\",\"Guardians of the Galaxy\",\"Avengers: Age of Ultron\",\"Ant-Man\",\"Captain America: Civil War\",\"Doctor Strange\"]\n",
    "years=[2008,2008,2010,2011,2011,2012,2013,2014,2014,2015,2015,2016,2016]\n",
    "movie_df=pd.DataFrame()\n",
    "for i,title in enumerate(titles):\n",
    "    title=escape_names(title)\n",
    "    wp = urllib.request.urlopen(\"http://www.omdbapi.com/?t=\"+title)#+\"&\"+str(years[i]))\n",
    "    data=pd.read_json(wp)\n",
    "    data=data.iloc[1]\n",
    "    movie_df=movie_df.append(data)\n",
    "# pw = wp.read()\n",
    "# print(pw)\n",
    "money_array=[]\n",
    "rating_array=[]\n",
    "for j in range(len(movie_df['BoxOffice'])):\n",
    "    money_array.append(float(movie_df['BoxOffice'].iloc[j].replace(\"$\", \"\").replace(\",\", \"\")))\n",
    "    rating_array.append(int(movie_df['Ratings'].iloc[j]['Value'].replace(\"%\", \"\")))\n",
    "movie_df['float_boxoffice']=pd.Series(money_array, index=movie_df.index)\n",
    "movie_df['Rotten Tomatoes Score']=pd.Series(rating_array, index=movie_df.index)\n",
    "movie_df=movie_df.reset_index()\n",
    "del movie_df['index']\n",
    "\n"
   ]
  },
  {
   "cell_type": "code",
   "execution_count": null,
   "metadata": {
    "collapsed": false
   },
   "outputs": [],
   "source": []
  },
  {
   "cell_type": "code",
   "execution_count": 144,
   "metadata": {
    "collapsed": true
   },
   "outputs": [],
   "source": [
    "movie_df['float_boxoffice']=pd.Series(money_array, index=movie_df.index)"
   ]
  },
  {
   "cell_type": "code",
   "execution_count": 1,
   "metadata": {
    "collapsed": false
   },
   "outputs": [
    {
     "ename": "NameError",
     "evalue": "name 'movie_df' is not defined",
     "output_type": "error",
     "traceback": [
      "\u001b[0;31m---------------------------------------------------------------------------\u001b[0m",
      "\u001b[0;31mNameError\u001b[0m                                 Traceback (most recent call last)",
      "\u001b[0;32m<ipython-input-1-f53d2652ce06>\u001b[0m in \u001b[0;36m<module>\u001b[0;34m()\u001b[0m\n\u001b[1;32m     10\u001b[0m \u001b[1;31m#     money_array.append(float(movie_df['BoxOffice'].iloc[j].replace(\"$\", \"\").replace(\",\", \"\")))\u001b[0m\u001b[1;33m\u001b[0m\u001b[1;33m\u001b[0m\u001b[0m\n\u001b[1;32m     11\u001b[0m \u001b[1;31m# movie_df.plot.bar(x=movie_df['Title'], y=movie_df['float_boxoffice'])\u001b[0m\u001b[1;33m\u001b[0m\u001b[1;33m\u001b[0m\u001b[0m\n\u001b[0;32m---> 12\u001b[0;31m \u001b[0msns\u001b[0m\u001b[1;33m.\u001b[0m\u001b[0mbarplot\u001b[0m\u001b[1;33m(\u001b[0m\u001b[0mx\u001b[0m\u001b[1;33m=\u001b[0m\u001b[1;34m'Title'\u001b[0m\u001b[1;33m,\u001b[0m \u001b[0my\u001b[0m\u001b[1;33m=\u001b[0m\u001b[1;34m'float_boxoffice'\u001b[0m\u001b[1;33m,\u001b[0m \u001b[0mdata\u001b[0m\u001b[1;33m=\u001b[0m\u001b[0mmovie_df\u001b[0m\u001b[1;33m,\u001b[0m\u001b[0max\u001b[0m\u001b[1;33m=\u001b[0m\u001b[0max1\u001b[0m\u001b[1;33m)\u001b[0m\u001b[1;33m\u001b[0m\u001b[0m\n\u001b[0m\u001b[1;32m     13\u001b[0m \u001b[0max1\u001b[0m\u001b[1;33m.\u001b[0m\u001b[0mxticks\u001b[0m\u001b[1;33m(\u001b[0m\u001b[0mrotation\u001b[0m\u001b[1;33m=\u001b[0m\u001b[1;36m90\u001b[0m\u001b[1;33m)\u001b[0m\u001b[1;33m\u001b[0m\u001b[0m\n\u001b[1;32m     14\u001b[0m \u001b[0msns\u001b[0m\u001b[1;33m.\u001b[0m\u001b[0mregplot\u001b[0m\u001b[1;33m(\u001b[0m\u001b[0mx\u001b[0m\u001b[1;33m=\u001b[0m\u001b[1;34m'float_boxoffice'\u001b[0m\u001b[1;33m,\u001b[0m \u001b[0my\u001b[0m\u001b[1;33m=\u001b[0m\u001b[1;34m'Rotten Tomatoes Score'\u001b[0m\u001b[1;33m,\u001b[0m\u001b[0mdata\u001b[0m\u001b[1;33m=\u001b[0m\u001b[0mmovie_df\u001b[0m\u001b[1;33m,\u001b[0m\u001b[0max\u001b[0m\u001b[1;33m=\u001b[0m\u001b[0max2\u001b[0m\u001b[1;33m)\u001b[0m\u001b[1;33m\u001b[0m\u001b[0m\n",
      "\u001b[0;31mNameError\u001b[0m: name 'movie_df' is not defined"
     ]
    }
   ],
   "source": [
    "import matplotlib.pyplot as plt\n",
    "import seaborn as sns\n",
    "plt.close('all')\n",
    "fig,(ax1,ax2)=plt.subplots(1,2,figsize=(12,6))\n",
    "sns.set_style(\"white\")\n",
    "# movie_df=movie_df.reset_index()\n",
    "# money_array=[]\n",
    "\n",
    "# for j in range(len(movie_df['BoxOffice'])):\n",
    "#     money_array.append(float(movie_df['BoxOffice'].iloc[j].replace(\"$\", \"\").replace(\",\", \"\")))\n",
    "# movie_df.plot.bar(x=movie_df['Title'], y=movie_df['float_boxoffice'])  \n",
    "sns.barplot(x='Title', y='float_boxoffice', data=movie_df,ax=ax1)\n",
    "ax1.xticks(rotation=90)\n",
    "sns.regplot(x='float_boxoffice', y='Rotten Tomatoes Score',data=movie_df,ax=ax2)\n",
    "\n",
    "fig"
   ]
  },
  {
   "cell_type": "code",
   "execution_count": 146,
   "metadata": {
    "collapsed": false
   },
   "outputs": [
    {
     "data": {
      "text/plain": [
       "<matplotlib.axes._subplots.AxesSubplot at 0xe0deba8>"
      ]
     },
     "execution_count": 146,
     "metadata": {},
     "output_type": "execute_result"
    }
   ],
   "source": [
    "sns.regplot(x='float_boxoffice', y='Rotten Tomatoes Score',data=movie_df)"
   ]
  },
  {
   "cell_type": "code",
   "execution_count": 141,
   "metadata": {
    "collapsed": false
   },
   "outputs": [
    {
     "data": {
      "image/png": "[encoded data removed]",
      "text/plain": [
       "<matplotlib.figure.Figure at 0xdcb0b70>"
      ]
     },
     "metadata": {},
     "output_type": "display_data"
    }
   ],
   "source": []
  },
  {
   "cell_type": "code",
   "execution_count": null,
   "metadata": {
    "collapsed": false
   },
   "outputs": [],
   "source": []
  },
  {
   "cell_type": "code",
   "execution_count": null,
   "metadata": {
    "collapsed": false
   },
   "outputs": [],
   "source": []
  },
  {
   "cell_type": "code",
   "execution_count": null,
   "metadata": {
    "collapsed": true
   },
   "outputs": [],
   "source": []
  }
 ],
 "metadata": {
  "kernelspec": {
   "display_name": "Python 3",
   "language": "python",
   "name": "python3"
  },
  "language_info": {
   "codemirror_mode": {
    "name": "ipython",
    "version": 3
   },
   "file_extension": ".py",
   "mimetype": "text/x-python",
   "name": "python",
   "nbconvert_exporter": "python",
   "pygments_lexer": "ipython3",
   "version": "3.6.0"
  }
 },
 "nbformat": 4,
 "nbformat_minor": 2
}
